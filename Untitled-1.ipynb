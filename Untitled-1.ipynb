{
 "cells": [
  {
   "cell_type": "code",
   "execution_count": 3,
   "metadata": {},
   "outputs": [
    {
     "name": "stdout",
     "output_type": "stream",
     "text": [
      "foi aplicado uma taxa de 1.5% no valor do seu carro e ficou: 1050.0\n"
     ]
    }
   ],
   "source": [
    "numCarro = int (input (\"Insira o ano de fabricação do seu carro:\"))\n",
    "numPreco = float(input(\"Insira o preço do seu carro:\"))\n",
    "taxaAntes = 0.01\n",
    "taxaDepois = 0.015\n",
    "\n",
    "if numCarro < 1990:\n",
    "    numPreco = numPreco * taxaAntes\n",
    "    print(\"foi aplicado uma taxa de 1% no valor do seu carro e ficou:\",numPreco)\n",
    "else:\n",
    "    numPreco = numPreco * taxaDepois\n",
    "    print(\"foi aplicado uma taxa de 1.5% no valor do seu carro e ficou:\",numPreco)\n",
    "    \n",
    "\n"
   ]
  },
  {
   "cell_type": "code",
   "execution_count": 32,
   "metadata": {},
   "outputs": [
    {
     "name": "stdout",
     "output_type": "stream",
     "text": [
      "Seu novo salario é: 1680.0\n"
     ]
    }
   ],
   "source": [
    "numSalario = float(input(\"Insira o seu salario atual:\"))\n",
    "numCod =  int(input(\"Insira o codigo do seu cargo:\"))\n",
    "\n",
    "if (numCod == 101):\n",
    "    print (\"Seu novo salario é:\",numSalario * 1.1)\n",
    "elif (numCod == 102):\n",
    "    print (\"Seu novo salario é:\", numSalario * 1.2)\n",
    "elif (numCod == 103):\n",
    "    print (\"Seu novo salario é:\",numSalario * 1.3)\n",
    "else:\n",
    "    numSalario = numSalario * 1.4\n",
    "    print (\"Seu novo salario é:\",numSalario)"
   ]
  }
 ],
 "metadata": {
  "kernelspec": {
   "display_name": "Python 3",
   "language": "python",
   "name": "python3"
  },
  "language_info": {
   "codemirror_mode": {
    "name": "ipython",
    "version": 3
   },
   "file_extension": ".py",
   "mimetype": "text/x-python",
   "name": "python",
   "nbconvert_exporter": "python",
   "pygments_lexer": "ipython3",
   "version": "3.11.9"
  }
 },
 "nbformat": 4,
 "nbformat_minor": 2
}
